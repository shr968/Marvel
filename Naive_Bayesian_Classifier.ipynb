{
  "nbformat": 4,
  "nbformat_minor": 0,
  "metadata": {
    "colab": {
      "provenance": [],
      "authorship_tag": "ABX9TyN9M3zWJq9iXIV4ovB0ShNJ",
      "include_colab_link": true
    },
    "kernelspec": {
      "name": "python3",
      "display_name": "Python 3"
    },
    "language_info": {
      "name": "python"
    }
  },
  "cells": [
    {
      "cell_type": "markdown",
      "metadata": {
        "id": "view-in-github",
        "colab_type": "text"
      },
      "source": [
        "<a href=\"https://colab.research.google.com/github/shr968/marvel/blob/main/Naive_Bayesian_Classifier.ipynb\" target=\"_parent\"><img src=\"https://colab.research.google.com/assets/colab-badge.svg\" alt=\"Open In Colab\"/></a>"
      ]
    },
    {
      "cell_type": "code",
      "execution_count": 1,
      "metadata": {
        "colab": {
          "base_uri": "https://localhost:8080/"
        },
        "id": "x7caCSBa-8FJ",
        "outputId": "5f4a41dd-36dc-4517-b1b3-e49ca117f4cb"
      },
      "outputs": [
        {
          "output_type": "stream",
          "name": "stdout",
          "text": [
            "Accuracy: 1.0\n",
            "\n",
            "Classification Report:\n",
            "               precision    recall  f1-score   support\n",
            "\n",
            "    Not Spam       1.00      1.00      1.00         1\n",
            "        Spam       1.00      1.00      1.00         2\n",
            "\n",
            "    accuracy                           1.00         3\n",
            "   macro avg       1.00      1.00      1.00         3\n",
            "weighted avg       1.00      1.00      1.00         3\n",
            "\n",
            "Email: 'Win a free car now!' --> Predicted: Spam\n",
            "Email: 'Can we reschedule the meeting?' --> Predicted: Not Spam\n",
            "Email: 'Exclusive deal on all products' --> Predicted: Spam\n",
            "Email: 'Team lunch planned for tomorrow' --> Predicted: Spam\n"
          ]
        }
      ],
      "source": [
        "import pandas as pd\n",
        "from sklearn.feature_extraction.text import CountVectorizer\n",
        "from sklearn.model_selection import train_test_split\n",
        "from sklearn.naive_bayes import MultinomialNB\n",
        "from sklearn.metrics import accuracy_score, classification_report\n",
        "\n",
        "data = {\n",
        "    'Email': [\n",
        "        \"Win a free lottery now\",\n",
        "        \"Your meeting is scheduled for 3 PM\",\n",
        "        \"Exclusive deal, win a gift card\",\n",
        "        \"Don't miss out on free coupons\",\n",
        "        \"Let's discuss the project plan\",\n",
        "        \"Free lottery tickets available\",\n",
        "        \"Meeting update: Change in time\",\n",
        "        \"Congratulations, you won a free prize\",\n",
        "    ],\n",
        "    'Label': [\n",
        "        'Spam', 'Not Spam', 'Spam', 'Spam',\n",
        "        'Not Spam', 'Spam', 'Not Spam', 'Spam'\n",
        "    ]\n",
        "}\n",
        "\n",
        "df = pd.DataFrame(data)\n",
        "\n",
        "X = df['Email']\n",
        "y = df['Label']\n",
        "\n",
        "vectorizer = CountVectorizer()\n",
        "X_vectorized = vectorizer.fit_transform(X)\n",
        "\n",
        "X_train, X_test, y_train, y_test = train_test_split(\n",
        "    X_vectorized, y, test_size=0.3, random_state=42\n",
        ")\n",
        "\n",
        "nb_classifier = MultinomialNB()\n",
        "nb_classifier.fit(X_train, y_train)\n",
        "\n",
        "y_pred = nb_classifier.predict(X_test)\n",
        "\n",
        "print(\"Accuracy:\", accuracy_score(y_test, y_pred))\n",
        "print(\"\\nClassification Report:\\n\", classification_report(y_test, y_pred))\n",
        "\n",
        "new_emails = [\n",
        "    \"Win a free car now!\",\n",
        "    \"Can we reschedule the meeting?\",\n",
        "    \"Exclusive deal on all products\",\n",
        "    \"Team lunch planned for tomorrow\"\n",
        "]\n",
        "new_emails_vectorized = vectorizer.transform(new_emails)\n",
        "predictions = nb_classifier.predict(new_emails_vectorized)\n",
        "\n",
        "for email, label in zip(new_emails, predictions):\n",
        "    print(f\"Email: '{email}' --> Predicted: {label}\")\n"
      ]
    }
  ]
}