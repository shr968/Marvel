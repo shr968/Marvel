{
  "nbformat": 4,
  "nbformat_minor": 0,
  "metadata": {
    "colab": {
      "provenance": [],
      "authorship_tag": "ABX9TyPrviEjS34+/vjzhkeAOPoE",
      "include_colab_link": true
    },
    "kernelspec": {
      "name": "python3",
      "display_name": "Python 3"
    },
    "language_info": {
      "name": "python"
    }
  },
  "cells": [
    {
      "cell_type": "markdown",
      "metadata": {
        "id": "view-in-github",
        "colab_type": "text"
      },
      "source": [
        "<a href=\"https://colab.research.google.com/github/shr968/marvel/blob/main/Logistic_Regression_from_Scratch.ipynb\" target=\"_parent\"><img src=\"https://colab.research.google.com/assets/colab-badge.svg\" alt=\"Open In Colab\"/></a>"
      ]
    },
    {
      "cell_type": "code",
      "execution_count": 5,
      "metadata": {
        "id": "XHApY9CXslaz"
      },
      "outputs": [],
      "source": [
        "\n"
      ]
    },
    {
      "cell_type": "code",
      "source": [
        "import numpy as np\n",
        "import pandas as pd\n",
        "import gdown\n",
        "import matplotlib.pyplot as plt\n",
        "\n",
        "url = \"https://drive.google.com/uc?id=1sbY5jOVRCB1kiQj23PeOpltGgBLJ36bF\"\n",
        "output = \"student_exam_data.txt\"\n",
        "gdown.download(url, output, quiet=False)\n",
        "\n",
        "def load_data(filename):\n",
        "    df = pd.read_csv(filename, header=None)\n",
        "    df = df[0].str.split(',', expand=True)\n",
        "    df = df.apply(pd.to_numeric, errors='coerce')\n",
        "    df.dropna(inplace=True)\n",
        "    df.columns = [\"feature1\", \"feature2\", \"label\"]\n",
        "\n",
        "    print(\"Cleaned data:\\n\", df.head())\n",
        "\n",
        "    return df[[\"feature1\", \"feature2\"]].values, df[\"label\"].values\n",
        "\n",
        "def sigmoid(x):\n",
        "    return 1 / (1 + np.exp(-x))\n",
        "\n",
        "def cost_function(x, y, theta):\n",
        "    m = len(y)\n",
        "    h_x = sigmoid(np.dot(x, theta))\n",
        "    epsilon = 1e-5\n",
        "    h_x = np.clip(h_x, epsilon, 1 - epsilon)\n",
        "\n",
        "    cost = -(1 / m) * np.sum(y * np.log(h_x) + (1 - y) * np.log(1 - h_x))\n",
        "    return cost\n",
        "\n",
        "def gradient_descent(x, y, theta, learning_rate=0.01, num_epochs=1000):\n",
        "    m = len(y)\n",
        "    J_all = []\n",
        "\n",
        "    for _ in range(num_epochs):\n",
        "        h_x = sigmoid(np.dot(x, theta))\n",
        "        gradient = (1 / m) * np.dot(x.T, (h_x - y))\n",
        "        theta -= learning_rate * gradient\n",
        "        J_all.append(cost_function(x, y, theta))\n",
        "\n",
        "    return theta, J_all\n",
        "\n",
        "def plot_cost(J_all, num_epochs):\n",
        "    plt.plot(range(num_epochs), J_all, 'm', linewidth=2)\n",
        "    plt.xlabel(\"Epochs\")\n",
        "    plt.ylabel(\"Cost\")\n",
        "    plt.title(\"Cost over Epochs\")\n",
        "    plt.show()\n",
        "\n",
        "def predict(x, theta):\n",
        "    return sigmoid(np.dot(x, theta)) >= 0.5\n",
        "\n",
        "x, y = load_data(output)\n",
        "y = y.reshape(-1, 1)\n",
        "x = np.hstack((np.ones((x.shape[0], 1)), x))\n",
        "theta = np.zeros((x.shape[1], 1))\n",
        "\n",
        "learning_rate = 0.001\n",
        "num_epochs = 1000\n",
        "\n",
        "theta, J_all = gradient_descent(x, y, theta, learning_rate, num_epochs)\n",
        "print(\"Final cost:\", J_all[-1])\n",
        "print(\"Parameters:\", theta.ravel())\n",
        "\n",
        "plot_cost(J_all, num_epochs)\n",
        "\n",
        "sample_input = np.array([1, 5.0, 3.0])\n",
        "prediction = predict(sample_input, theta)\n",
        "print(\"Prediction for sample input [5.0, 3.0]:\", int(prediction))\n"
      ],
      "metadata": {
        "colab": {
          "base_uri": "https://localhost:8080/",
          "height": 770
        },
        "id": "pafFHTD9tDGN",
        "outputId": "5eedf5f8-f3dc-4e76-eadc-cb91bd5a6ecc"
      },
      "execution_count": 2,
      "outputs": [
        {
          "output_type": "stream",
          "name": "stderr",
          "text": [
            "Downloading...\n",
            "From: https://drive.google.com/uc?id=1sbY5jOVRCB1kiQj23PeOpltGgBLJ36bF\n",
            "To: /content/student_exam_data.txt\n",
            "100%|██████████| 3.98k/3.98k [00:00<00:00, 10.0MB/s]\n"
          ]
        },
        {
          "output_type": "stream",
          "name": "stdout",
          "text": [
            "Cleaned data:\n",
            "     feature1   feature2  label\n",
            "0  34.623660  78.024693      0\n",
            "1  30.286711  43.894998      0\n",
            "2  35.847409  72.902198      0\n",
            "3  60.182599  86.308552      1\n",
            "4  79.032736  75.344376      1\n",
            "Final cost: 0.6249857589104834\n",
            "Parameters: [-0.06946097  0.01090733  0.00099135]\n"
          ]
        },
        {
          "output_type": "display_data",
          "data": {
            "text/plain": [
              "<Figure size 640x480 with 1 Axes>"
            ],
            "image/png": "[encoded data removed]"
          },
          "metadata": {}
        },
        {
          "output_type": "stream",
          "name": "stdout",
          "text": [
            "Prediction for sample input [5.0, 3.0]: 0\n"
          ]
        },
        {
          "output_type": "stream",
          "name": "stderr",
          "text": [
            "<ipython-input-2-3578055ec3d8>:71: DeprecationWarning: Conversion of an array with ndim > 0 to a scalar is deprecated, and will error in future. Ensure you extract a single element from your array before performing this operation. (Deprecated NumPy 1.25.)\n",
            "  print(\"Prediction for sample input [5.0, 3.0]:\", int(prediction))\n"
          ]
        }
      ]
    }
  ]
}